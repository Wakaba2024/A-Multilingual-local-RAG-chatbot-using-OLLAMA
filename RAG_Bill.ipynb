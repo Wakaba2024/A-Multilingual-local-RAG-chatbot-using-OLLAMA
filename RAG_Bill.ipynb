{
 "cells": [
  {
   "cell_type": "markdown",
   "id": "72d24e29-5489-4fa4-b8ce-b1617b50ff09",
   "metadata": {},
   "source": [
    "# FINANCE BILL 2025 RAG MODEL USING OLLAMA AND LANGCHAIN"
   ]
  },
  {
   "cell_type": "markdown",
   "id": "51953793-9d85-42fa-85ac-86fffdd0f1a6",
   "metadata": {},
   "source": [
    "## GETTING THE PDF FILE FOR THE RAG PIPELINE"
   ]
  },
  {
   "cell_type": "code",
   "execution_count": 1,
   "id": "9aeb0ceb-9836-4376-b05a-7e51a948276b",
   "metadata": {},
   "outputs": [],
   "source": [
    "import pandas as pd\n",
    "import numpy as np\n",
    "from langchain_community.document_loaders import PyPDFLoader # Best use case download and use it in case you do not have access to the online file\n",
    "from langchain_community.document_loaders import OnlinePDFLoader # Gives you an option if you do not have the files locally"
   ]
  },
  {
   "cell_type": "code",
   "execution_count": 2,
   "id": "61df9404-8e32-4a9b-82d1-455e1f93a21c",
   "metadata": {},
   "outputs": [],
   "source": [
    "# Local PDF File Upload \n",
    "local_path = (r\"C:\\Users\\user\\Agents_Chatbots_Models\\Rag-Finance-Bill2025-Eng-Swa\\The Finance Bill 2025 (1).pdf\")\n",
    "\n",
    "if local_path:\n",
    "    loader = PyPDFLoader(local_path)\n",
    "    data = loader.load()\n",
    "else:\n",
    "    print(\"Upload a PDF File!\")"
   ]
  },
  {
   "cell_type": "code",
   "execution_count": 3,
   "id": "35abc4fb-7b28-4393-8ae2-7c80e98cebb2",
   "metadata": {},
   "outputs": [
    {
     "data": {
      "text/plain": [
       "\"SPECIAL ISSUE \\nNATION I. '01.INCI I.FOR \\nk P OR TI NC \\nLIPRAPY  \\n \\n   \\nKenya Gazette Supplement No. 63 (National Assembly Bills No. 19) \\nREPUBLIC OF KENYA \\nKENYA GAZETTE SUPPLEMENT \\nNATIONAL ASSEMBLY BILLS, 2025 \\nNAIROBI, 6th May, 2025 \\nCONTENT \\nBill for Introduction into the National Assembly— \\nPAGE \\nThe Finance Bill, 2025  \\t 335 \\nNATIONAL COUNCIL FOR \\nLAW REPORTING \\n0 9 MAY 2025 \\nLIBRARY ARCHIVE \\nPRINTED AND PUBLISHED BY THE GOVERNMENT PRINTER, NAIROBI\""
      ]
     },
     "execution_count": 3,
     "metadata": {},
     "output_type": "execute_result"
    }
   ],
   "source": [
    "# Preview The First Page\n",
    "data[0].page_content"
   ]
  },
  {
   "cell_type": "markdown",
   "id": "90a030d2-f8f2-4783-8e68-7ec6d4cdbcdf",
   "metadata": {},
   "source": [
    "## VECTOR EMBEDDINGS"
   ]
  },
  {
   "cell_type": "code",
   "execution_count": 4,
   "id": "7a2cdeab-22fd-458b-a316-f0faad81c0f6",
   "metadata": {},
   "outputs": [
    {
     "name": "stderr",
     "output_type": "stream",
     "text": [
      "\u001b[?2026h\u001b[?25l\u001b[1Gpulling manifest â ‹ \u001b[K\u001b[?25h\u001b[?2026l\u001b[?2026h\u001b[?25l\u001b[1Gpulling manifest â ™ \u001b[K\u001b[?25h\u001b[?2026l\u001b[?2026h\u001b[?25l\u001b[1Gpulling manifest â ¹ \u001b[K\u001b[?25h\u001b[?2026l\u001b[?2026h\u001b[?25l\u001b[1Gpulling manifest â ¸ \u001b[K\u001b[?25h\u001b[?2026l\u001b[?2026h\u001b[?25l\u001b[1Gpulling manifest â ¼ \u001b[K\u001b[?25h\u001b[?2026l\u001b[?2026h\u001b[?25l\u001b[1Gpulling manifest â ´ \u001b[K\u001b[?25h\u001b[?2026l\u001b[?2026h\u001b[?25l\u001b[1Gpulling manifest â ¦ \u001b[K\u001b[?25h\u001b[?2026l\u001b[?2026h\u001b[?25l\u001b[1Gpulling manifest â § \u001b[K\u001b[?25h\u001b[?2026l\u001b[?2026h\u001b[?25l\u001b[1Gpulling manifest â ‡ \u001b[K\u001b[?25h\u001b[?2026l\u001b[?2026h\u001b[?25l\u001b[1Gpulling manifest â � \u001b[K\u001b[?25h\u001b[?2026l\u001b[?2026h\u001b[?25l\u001b[1Gpulling manifest â ‹ \u001b[K\u001b[?25h\u001b[?2026l\u001b[?2026h\u001b[?25l\u001b[1Gpulling manifest â ™ \u001b[K\u001b[?25h\u001b[?2026l\u001b[?2026h\u001b[?25l\u001b[1Gpulling manifest â ¹ \u001b[K\u001b[?25h\u001b[?2026l\u001b[?2026h\u001b[?25l\u001b[1Gpulling manifest \u001b[K\n",
      "pulling 970aa74c0a90: 100% â–•â–ˆâ–ˆâ–ˆâ–ˆâ–ˆâ–ˆâ–ˆâ–ˆâ–ˆâ–ˆâ–ˆâ–ˆâ–ˆâ–ˆâ–ˆâ–ˆâ–ˆâ–ˆâ–� 274 MB                         \u001b[K\n",
      "pulling c71d239df917: 100% â–•â–ˆâ–ˆâ–ˆâ–ˆâ–ˆâ–ˆâ–ˆâ–ˆâ–ˆâ–ˆâ–ˆâ–ˆâ–ˆâ–ˆâ–ˆâ–ˆâ–ˆâ–ˆâ–�  11 KB                         \u001b[K\n",
      "pulling ce4a164fc046: 100% â–•â–ˆâ–ˆâ–ˆâ–ˆâ–ˆâ–ˆâ–ˆâ–ˆâ–ˆâ–ˆâ–ˆâ–ˆâ–ˆâ–ˆâ–ˆâ–ˆâ–ˆâ–ˆâ–�   17 B                         \u001b[K\n",
      "pulling 31df23ea7daa: 100% â–•â–ˆâ–ˆâ–ˆâ–ˆâ–ˆâ–ˆâ–ˆâ–ˆâ–ˆâ–ˆâ–ˆâ–ˆâ–ˆâ–ˆâ–ˆâ–ˆâ–ˆâ–ˆâ–�  420 B                         \u001b[K\n",
      "verifying sha256 digest \u001b[K\n",
      "writing manifest \u001b[K\n",
      "success \u001b[K\u001b[?25h\u001b[?2026l\n"
     ]
    }
   ],
   "source": [
    "# Install the nomic embed text model\n",
    "!ollama pull nomic-embed-text"
   ]
  },
  {
   "cell_type": "code",
   "execution_count": 5,
   "id": "19393bec-1d81-4b07-8eae-303f4083c987",
   "metadata": {},
   "outputs": [
    {
     "name": "stdout",
     "output_type": "stream",
     "text": [
      "NAME                       ID              SIZE      MODIFIED               \n",
      "nomic-embed-text:latest    0a109f422b47    274 MB    Less than a second ago    \n",
      "gpt-oss:20b                aa4295ac10c3    13 GB     2 hours ago               \n",
      "llama2:latest              78e26419b446    3.8 GB    3 hours ago               \n",
      "llama3.1:latest            46e0c10c039e    4.9 GB    16 hours ago              \n"
     ]
    }
   ],
   "source": [
    "# Show all models within the local system\n",
    "!ollama list"
   ]
  },
  {
   "cell_type": "code",
   "execution_count": 6,
   "id": "42831750-735f-472c-9d23-eaae812973de",
   "metadata": {},
   "outputs": [],
   "source": [
    "# Import Libraries\n",
    "from langchain_community.embeddings import OllamaEmbeddings\n",
    "from langchain_text_splitters import RecursiveCharacterTextSplitter\n",
    "from langchain_community.vectorstores import Chroma"
   ]
  },
  {
   "cell_type": "code",
   "execution_count": 7,
   "id": "1023ede1-96e2-4362-9ef8-3691a9319a22",
   "metadata": {},
   "outputs": [],
   "source": [
    "# Split and Chunk\n",
    "text_splitter = RecursiveCharacterTextSplitter(chunk_size=7500, chunk_overlap=100)\n",
    "chunks = text_splitter.split_documents(data)"
   ]
  },
  {
   "cell_type": "code",
   "execution_count": 8,
   "id": "dfb8dfd2-06e4-4f85-8f0c-7c4d84899ad7",
   "metadata": {},
   "outputs": [
    {
     "name": "stderr",
     "output_type": "stream",
     "text": [
      "C:\\Users\\user\\AppData\\Local\\Temp\\ipykernel_20196\\3804677710.py:4: LangChainDeprecationWarning: The class `OllamaEmbeddings` was deprecated in LangChain 0.3.1 and will be removed in 1.0.0. An updated version of the class exists in the :class:`~langchain-ollama package and should be used instead. To use it run `pip install -U :class:`~langchain-ollama` and import as `from :class:`~langchain_ollama import OllamaEmbeddings``.\n",
      "  embedding=OllamaEmbeddings(model=\"nomic-embed-text\",show_progress=True),\n",
      "OllamaEmbeddings: 100%|██████████████████████████████████████████████████████████████| 134/134 [06:17<00:00,  2.82s/it]\n"
     ]
    }
   ],
   "source": [
    "# Add to a vector database\n",
    "vector_db = Chroma.from_documents(\n",
    "    documents=chunks,\n",
    "    embedding=OllamaEmbeddings(model=\"nomic-embed-text\",show_progress=True),\n",
    "    collection_name=\"local-rag\"\n",
    ")"
   ]
  },
  {
   "cell_type": "markdown",
   "id": "4d86e0c4-1fb4-40ae-bba0-c3bc2dc9e43f",
   "metadata": {},
   "source": [
    "## RETRIEVAL: CHATTING WITH PDF USING OLLAMA RAG"
   ]
  },
  {
   "cell_type": "code",
   "execution_count": 9,
   "id": "010ca53b-248c-4fb0-97ba-f1f812ae61b7",
   "metadata": {},
   "outputs": [],
   "source": [
    "from langchain.prompts import ChatPromptTemplate, PromptTemplate\n",
    "from langchain_core.output_parsers import StrOutputParser\n",
    "from langchain_community.chat_models import ChatOllama\n",
    "from langchain_core.runnables import RunnablePassthrough\n",
    "from langchain.retrievers.multi_query import MultiQueryRetriever"
   ]
  },
  {
   "cell_type": "code",
   "execution_count": 10,
   "id": "ee1bf63e-b850-4002-b5af-1981618714de",
   "metadata": {},
   "outputs": [
    {
     "name": "stderr",
     "output_type": "stream",
     "text": [
      "C:\\Users\\user\\AppData\\Local\\Temp\\ipykernel_20196\\1566235220.py:3: LangChainDeprecationWarning: The class `ChatOllama` was deprecated in LangChain 0.3.1 and will be removed in 1.0.0. An updated version of the class exists in the :class:`~langchain-ollama package and should be used instead. To use it run `pip install -U :class:`~langchain-ollama` and import as `from :class:`~langchain_ollama import ChatOllama``.\n",
      "  llm = ChatOllama(model=local_model)\n"
     ]
    }
   ],
   "source": [
    "# LLM from Ollama\n",
    "local_model = \"llama3.1\"\n",
    "llm = ChatOllama(model=local_model)"
   ]
  },
  {
   "cell_type": "code",
   "execution_count": 11,
   "id": "dec62eb6-e54a-4c55-9a76-e3432acd1790",
   "metadata": {},
   "outputs": [],
   "source": [
    "QUERY_PROMPT = PromptTemplate(\n",
    "    input_variables=[\"question\"],\n",
    "    template=\"\"\"You are an AI language model assistant. Your task is to generate 2\n",
    "    different versions of the given user question to retrieve relevant documents from\n",
    "    a vector database. By generating multiple perspectives on the user question, your\n",
    "    goal is to help the user overcome some of the limitations of the distance-based\n",
    "    similarity search. Provide these alternative questions separated by newlines.\n",
    "    Original question: {question}\"\"\",\n",
    ")"
   ]
  },
  {
   "cell_type": "code",
   "execution_count": 12,
   "id": "f516779e-2651-4d91-885d-405a3bbe16f9",
   "metadata": {},
   "outputs": [],
   "source": [
    "retriever = MultiQueryRetriever.from_llm(\n",
    "    vector_db.as_retriever(),\n",
    "    llm,\n",
    "    prompt=QUERY_PROMPT\n",
    ")\n",
    "\n",
    "# RAG prompt\n",
    "template = \"\"\"Answer the question based ONLY on the following context:\n",
    "{context}\n",
    "Question: {question}\n",
    "\"\"\"\n",
    "\n",
    "prompt = ChatPromptTemplate.from_template(template)"
   ]
  },
  {
   "cell_type": "code",
   "execution_count": 13,
   "id": "6bad7e1d-bf19-45a7-b8f2-2782eb27ac5f",
   "metadata": {},
   "outputs": [],
   "source": [
    "chain = (\n",
    "    {\"context\": retriever, \"question\": RunnablePassthrough()}\n",
    "    | prompt\n",
    "    | llm\n",
    "    | StrOutputParser()\n",
    ")"
   ]
  },
  {
   "cell_type": "code",
   "execution_count": 14,
   "id": "ccefec95-be54-463d-901b-029f754ef1c6",
   "metadata": {},
   "outputs": [
    {
     "name": "stdin",
     "output_type": "stream",
     "text": [
      " what is the document about?\n"
     ]
    },
    {
     "name": "stderr",
     "output_type": "stream",
     "text": [
      "OllamaEmbeddings: 100%|██████████████████████████████████████████████████████████████████| 1/1 [00:02<00:00,  2.15s/it]\n",
      "OllamaEmbeddings: 100%|██████████████████████████████████████████████████████████████████| 1/1 [00:02<00:00,  2.11s/it]\n",
      "OllamaEmbeddings: 100%|██████████████████████████████████████████████████████████████████| 1/1 [00:02<00:00,  2.10s/it]\n",
      "OllamaEmbeddings: 100%|██████████████████████████████████████████████████████████████████| 1/1 [00:02<00:00,  2.15s/it]\n",
      "OllamaEmbeddings: 100%|██████████████████████████████████████████████████████████████████| 1/1 [00:02<00:00,  2.07s/it]\n",
      "OllamaEmbeddings: 100%|██████████████████████████████████████████████████████████████████| 1/1 [00:02<00:00,  2.07s/it]\n",
      "OllamaEmbeddings: 100%|██████████████████████████████████████████████████████████████████| 1/1 [00:02<00:00,  2.19s/it]\n",
      "OllamaEmbeddings: 100%|██████████████████████████████████████████████████████████████████| 1/1 [00:02<00:00,  2.12s/it]\n"
     ]
    },
    {
     "data": {
      "text/plain": [
       "'The document appears to be a draft of the Finance Bill 2025, which outlines proposed amendments to various tax laws in Kenya. The bill covers a range of topics, including:\\n\\n1. Tax exemptions for certain goods and services, such as:\\n\\t* Medicaments manufactured by pharmaceutical companies in Kenya\\n\\t* Transportation of sugarcane from farms to milling factories\\n\\t* Locally assembled and manufactured mobile phones\\n2. Penalties for late submission of tax returns and failure to submit required documents\\n3. Requirements for payment of withholding tax on certain types of income\\n4. Exemptions from withholding tax for certain types of income, such as:\\n\\t* Interest earned by exempt persons or financial institutions\\n\\t* Dividends paid to shareholders in companies that are exempt from tax\\n5. Amendments to the definition of \"locally manufactured passenger motor vehicle\" and the requirements for local content\\n\\nOverall, the document appears to be a detailed outline of proposed changes to Kenya\\'s tax laws, with a focus on simplifying and streamlining the tax system, as well as providing exemptions and incentives for certain industries and activities.'"
      ]
     },
     "execution_count": 14,
     "metadata": {},
     "output_type": "execute_result"
    }
   ],
   "source": [
    "chain.invoke(input(\"\"))"
   ]
  },
  {
   "cell_type": "code",
   "execution_count": 15,
   "id": "d6a3a796-bee7-4643-99ce-505f16d0a043",
   "metadata": {},
   "outputs": [
    {
     "name": "stdin",
     "output_type": "stream",
     "text": [
      " What are this documents chapters\n"
     ]
    },
    {
     "name": "stderr",
     "output_type": "stream",
     "text": [
      "OllamaEmbeddings: 100%|██████████████████████████████████████████████████████████████████| 1/1 [00:03<00:00,  3.53s/it]\n",
      "OllamaEmbeddings: 100%|██████████████████████████████████████████████████████████████████| 1/1 [00:02<00:00,  2.26s/it]\n",
      "OllamaEmbeddings: 100%|██████████████████████████████████████████████████████████████████| 1/1 [00:02<00:00,  2.30s/it]\n",
      "OllamaEmbeddings: 100%|██████████████████████████████████████████████████████████████████| 1/1 [00:02<00:00,  2.25s/it]\n",
      "OllamaEmbeddings: 100%|██████████████████████████████████████████████████████████████████| 1/1 [00:02<00:00,  2.29s/it]\n",
      "OllamaEmbeddings: 100%|██████████████████████████████████████████████████████████████████| 1/1 [00:02<00:00,  2.29s/it]\n",
      "OllamaEmbeddings: 100%|██████████████████████████████████████████████████████████████████| 1/1 [00:02<00:00,  2.24s/it]\n"
     ]
    },
    {
     "data": {
      "text/plain": [
       "\"Based on the provided text, it appears that these documents are related to taxation laws in Kenya, specifically the Finance Bill 2025.\\n\\nAs for identifying chapters within these documents, I'll attempt to break down their content:\\n\\n1. **Chapter 1**: The first few sections (e.g., Section 89) seem to relate to exemptions from taxes, such as imported goods and services.\\n2. **Chapter 2**: The next section (Section 112) discusses taxable goods for geothermal, oil, or mining prospecting/exploration.\\n3. **Chapter 3**: This chapter appears to focus on objections and appeals processes, including sections like Section 59A, which introduces a data management and reporting system.\\n\\nPlease note that this is an approximation based solely on the provided text snippets. Without access to the full documents, it's challenging to accurately identify chapters or their exact topics.\""
      ]
     },
     "execution_count": 15,
     "metadata": {},
     "output_type": "execute_result"
    }
   ],
   "source": [
    "chain.invoke(input(\"\"))"
   ]
  },
  {
   "cell_type": "code",
   "execution_count": null,
   "id": "a7c1ce79-0519-494a-ac03-eb9b24fa4279",
   "metadata": {},
   "outputs": [],
   "source": []
  },
  {
   "cell_type": "code",
   "execution_count": null,
   "id": "4f97854d-b03f-49f2-b60f-7f0d1d29357f",
   "metadata": {},
   "outputs": [],
   "source": []
  }
 ],
 "metadata": {
  "kernelspec": {
   "display_name": "Python 3 (ipykernel)",
   "language": "python",
   "name": "python3"
  },
  "language_info": {
   "codemirror_mode": {
    "name": "ipython",
    "version": 3
   },
   "file_extension": ".py",
   "mimetype": "text/x-python",
   "name": "python",
   "nbconvert_exporter": "python",
   "pygments_lexer": "ipython3",
   "version": "3.12.3"
  }
 },
 "nbformat": 4,
 "nbformat_minor": 5
}
