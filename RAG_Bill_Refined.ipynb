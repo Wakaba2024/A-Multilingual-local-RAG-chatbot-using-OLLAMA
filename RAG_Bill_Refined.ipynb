{
 "cells": [
  {
   "cell_type": "markdown",
   "id": "cf87bfa3",
   "metadata": {},
   "source": [
    "# OLLAMA FINANCE BILL 2025 RAG MULTILINGUAL"
   ]
  },
  {
   "cell_type": "markdown",
   "id": "acbd9751",
   "metadata": {},
   "source": [
    "## Import Libraries"
   ]
  },
  {
   "cell_type": "code",
   "execution_count": null,
   "id": "1c49a299",
   "metadata": {},
   "outputs": [
    {
     "name": "stderr",
     "output_type": "stream",
     "text": [
      "c:\\Users\\user\\Agents_Chatbots_Models\\Rag-Finance-Bill2025-Eng-Swa\\.venv\\Lib\\site-packages\\tqdm\\auto.py:21: TqdmWarning: IProgress not found. Please update jupyter and ipywidgets. See https://ipywidgets.readthedocs.io/en/stable/user_install.html\n",
      "  from .autonotebook import tqdm as notebook_tqdm\n"
     ]
    }
   ],
   "source": [
    "import pandas as pd\n",
    "import numpy as np\n",
    "from langchain_community.document_loaders import PyPDFLoader\n",
    "from langchain_ollama import OllamaEmbeddings\n",
    "from langchain_text_splitters import RecursiveCharacterTextSplitter\n",
    "from langchain_community.vectorstores import Chroma\n",
    "from langchain.prompts import ChatPromptTemplate, PromptTemplate\n",
    "from langchain_core.output_parsers import StrOutputParser\n",
    "from langchain_ollama.chat_models import ChatOllama\n",
    "from langchain_core.runnables import RunnablePassthrough\n",
    "from langchain.retrievers.multi_query import MultiQueryRetriever\n",
    "\n",
    "\n",
    "# Jupyter imports\n",
    "from IPython.display import display, Markdown # Neat Version Output"
   ]
  },
  {
   "cell_type": "code",
   "execution_count": 2,
   "id": "e146b7d7",
   "metadata": {},
   "outputs": [],
   "source": [
    "import warnings\n",
    "warnings.filterwarnings('ignore')\n",
    "# If needed"
   ]
  },
  {
   "cell_type": "markdown",
   "id": "23bd29b7",
   "metadata": {},
   "source": [
    "## Load PDF"
   ]
  },
  {
   "cell_type": "code",
   "execution_count": 3,
   "id": "fa55bc7a",
   "metadata": {},
   "outputs": [
    {
     "name": "stdout",
     "output_type": "stream",
     "text": [
      "PDF WAS SUCCESSFULLY LOADED: The Finance Bill 2025 (1).pdf\n"
     ]
    }
   ],
   "source": [
    "local_path = \"The Finance Bill 2025 (1).pdf\"\n",
    "if local_path:\n",
    "    loader = PyPDFLoader(local_path)\n",
    "    data = loader.load()\n",
    "    print(f\"PDF WAS SUCCESSFULLY LOADED: {local_path}\")\n",
    "else:\n",
    "    print(\"Upload a PDF File!\")"
   ]
  },
  {
   "cell_type": "code",
   "execution_count": 4,
   "id": "7a266090",
   "metadata": {},
   "outputs": [
    {
     "data": {
      "text/plain": [
       "\"SPECIAL ISSUE \\nNATION I. '01.INCI I.FOR \\nk P OR TI NC \\nLIPRAPY  \\n \\n   \\nKenya Gazette Supplement No. 63 (National Assembly Bills No. 19) \\nREPUBLIC OF KENYA \\nKENYA GAZETTE SUPPLEMENT \\nNATIONAL ASSEMBLY BILLS, 2025 \\nNAIROBI, 6th May, 2025 \\nCONTENT \\nBill for Introduction into the National Assembly— \\nPAGE \\nThe Finance Bill, 2025  \\t 335 \\nNATIONAL COUNCIL FOR \\nLAW REPORTING \\n0 9 MAY 2025 \\nLIBRARY ARCHIVE \\nPRINTED AND PUBLISHED BY THE GOVERNMENT PRINTER, NAIROBI\""
      ]
     },
     "execution_count": 4,
     "metadata": {},
     "output_type": "execute_result"
    }
   ],
   "source": [
    "# Preview The First Page\n",
    "data[0].page_content"
   ]
  },
  {
   "cell_type": "markdown",
   "id": "bb5bff32",
   "metadata": {},
   "source": [
    "## SPLIT TEXT INTO CHUNKS"
   ]
  },
  {
   "cell_type": "code",
   "execution_count": 5,
   "id": "7bc378a2",
   "metadata": {},
   "outputs": [],
   "source": [
    "text_splitter = RecursiveCharacterTextSplitter(chunk_size=1000, chunk_overlap=200)\n",
    "chunks = text_splitter.split_documents(data)"
   ]
  },
  {
   "cell_type": "code",
   "execution_count": 6,
   "id": "b38b7332",
   "metadata": {},
   "outputs": [
    {
     "name": "stdout",
     "output_type": "stream",
     "text": [
      "367\n",
      "The text was split into 367 chunks\n"
     ]
    }
   ],
   "source": [
    "\n",
    "# Print the number of chunks\n",
    "print(len(chunks))\n",
    "print(f\"The text was split into {len (chunks)} chunks\")"
   ]
  },
  {
   "cell_type": "markdown",
   "id": "614cef27",
   "metadata": {},
   "source": [
    "## Add to a vector database"
   ]
  },
  {
   "cell_type": "code",
   "execution_count": 7,
   "id": "f8f74a53",
   "metadata": {},
   "outputs": [
    {
     "name": "stdout",
     "output_type": "stream",
     "text": [
      "The Vector Database Was Created Succcessfully!\n"
     ]
    }
   ],
   "source": [
    "vector_db = Chroma.from_documents(\n",
    "    documents=chunks,\n",
    "    embedding=OllamaEmbeddings(model=\"nomic-embed-text\"),\n",
    "    collection_name=\"local-rag\"\n",
    ")\n",
    "print(\"The Vector Database Was Created Succcessfully!\")"
   ]
  },
  {
   "cell_type": "markdown",
   "id": "cd2e16fd",
   "metadata": {},
   "source": [
    "## SETUP LLM AND RETRIEVAL"
   ]
  },
  {
   "cell_type": "code",
   "execution_count": 8,
   "id": "f5e14b34",
   "metadata": {},
   "outputs": [],
   "source": [
    "local_model = \"llama3.1\"\n",
    "llm = ChatOllama(model=local_model)"
   ]
  },
  {
   "cell_type": "code",
   "execution_count": 9,
   "id": "080969eb",
   "metadata": {},
   "outputs": [],
   "source": [
    "# Query Prmpt Template\n",
    "QUERY_PROMPT = PromptTemplate(\n",
    "    input_variables=[\"question\"],\n",
    "    template=\"\"\"You are an AI language model assistant. Your task is to generate 2\n",
    "    different versions of the given user question to retrieve relevant documents from\n",
    "    a vector database. By generating multiple perspectives on the user question, your\n",
    "    goal is to help the user overcome some of the limitations of the distance-based\n",
    "    similarity search. Provide these alternative questions separated by newlines.\n",
    "    Original question: {question}\"\"\",\n",
    ")"
   ]
  },
  {
   "cell_type": "code",
   "execution_count": 10,
   "id": "6838c0f7",
   "metadata": {},
   "outputs": [],
   "source": [
    "# Setup Retriever\n",
    "retriever = MultiQueryRetriever.from_llm(\n",
    "    vector_db.as_retriever(),\n",
    "    llm,\n",
    "    prompt=QUERY_PROMPT\n",
    ")\n",
    "# CREATE A CHAIN\n",
    "# RAG prompt Template\n",
    "template = \"\"\"Answer the question based ONLY on the following context:\n",
    "{context}\n",
    "\n",
    "Question: {question}\n",
    "\n",
    "Your response must be in the same language as the question. If the question is in Swahili, respond in Swahili. If it is in English, respond in English.\n",
    "\"\"\"\n",
    "prompt = ChatPromptTemplate.from_template(template)"
   ]
  },
  {
   "cell_type": "markdown",
   "id": "4ccffec7",
   "metadata": {},
   "source": [
    "## # Create Chain"
   ]
  },
  {
   "cell_type": "code",
   "execution_count": 11,
   "id": "df642b38",
   "metadata": {},
   "outputs": [],
   "source": [
    "chain = (\n",
    "    {\"context\": retriever, \"question\": RunnablePassthrough()}\n",
    "    | prompt\n",
    "    | llm\n",
    "    | StrOutputParser()\n",
    ")"
   ]
  },
  {
   "cell_type": "markdown",
   "id": "448da1ec",
   "metadata": {},
   "source": [
    "## Chat With The PDF"
   ]
  },
  {
   "cell_type": "code",
   "execution_count": 12,
   "id": "53e6ddf5",
   "metadata": {},
   "outputs": [],
   "source": [
    "def chat_with_pdf(question):\n",
    "    \"\"\"\n",
    "    Chat with the PDF using RAG chain.\n",
    "    \"\"\"\n",
    "    return display(Markdown(chain.invoke(question)))"
   ]
  },
  {
   "cell_type": "code",
   "execution_count": 13,
   "id": "78be070f",
   "metadata": {},
   "outputs": [
    {
     "data": {
      "text/markdown": [
       "The main idea of this document appears to be a set of regulations and guidelines related to taxation and financial reporting for multinational enterprise groups operating in Kenya. Specifically, it outlines the requirements for filing country-by-country reports, including information on constituent entities' activities, revenue, profit or loss, taxes paid, tangible assets, and employee numbers, among other details. The document also mentions exemptions from excise duty and taxable goods, as well as amendments to various tax-related sections of existing laws."
      ],
      "text/plain": [
       "<IPython.core.display.Markdown object>"
      ]
     },
     "metadata": {},
     "output_type": "display_data"
    }
   ],
   "source": [
    "# First Question\n",
    "chat_with_pdf(\"What is the main idea of this document?\")"
   ]
  },
  {
   "cell_type": "code",
   "execution_count": 14,
   "id": "73f3fa2a",
   "metadata": {},
   "outputs": [
    {
     "data": {
      "text/markdown": [
       "Mswada wa fedha wa 2025 unaungwa mkono na sheria mbalimbali kama vile Sheria ya Kifedha (Cap. 470), Sheria ya Kigusuko cha Uwekezaji (Cap. 476), Sheria ya Kodi ya Mashirika (Cap. 472), Sheria ya Mfumo wa Ushuru wa Taifa (Cap. 469B) na Sheria ya Malipo ya Mishahara na Malipizi ya Kitaalamu (Cap. 469C). Mswada pia unaongeza shirika ya mali, ambapo kuhamishwa kwa mali za kampuni hadi wa washikadau wake kama sehemu ya ukarabati wa ndani wa kampuni huchukuliwa kuwa huru kutoka kodi ya stamp."
      ],
      "text/plain": [
       "<IPython.core.display.Markdown object>"
      ]
     },
     "metadata": {},
     "output_type": "display_data"
    }
   ],
   "source": [
    "# Second Question\n",
    "chat_with_pdf(\"Mswada wa fedha wa 2025 unahusu nini?\")"
   ]
  },
  {
   "cell_type": "code",
   "execution_count": 15,
   "id": "5b8eb8cb",
   "metadata": {},
   "outputs": [
    {
     "data": {
      "text/markdown": [
       "Hati hiyo ya ujasusi iliyotolewa ina kipengele muhimu ambacho kinawasilisha mabadiliko yanayohusika katika sheria za fedha nchini Kenya. Hili linajumuisha mauzo ya digital, upatikanaji wa sifa, na malipo ya taasisi binafsi katika shirika kuu."
      ],
      "text/plain": [
       "<IPython.core.display.Markdown object>"
      ]
     },
     "metadata": {},
     "output_type": "display_data"
    }
   ],
   "source": [
    "# Third Question\n",
    "chat_with_pdf(\"Vipengele vikuu katika hii hati ni ipi?\")"
   ]
  },
  {
   "cell_type": "code",
   "execution_count": 16,
   "id": "4f146c9d",
   "metadata": {},
   "outputs": [
    {
     "data": {
      "text/markdown": [
       "The document addresses various taxes including Income Tax, Value Added Tax (VAT), Excise Duty, and Stamp Duty."
      ],
      "text/plain": [
       "<IPython.core.display.Markdown object>"
      ]
     },
     "metadata": {},
     "output_type": "display_data"
    }
   ],
   "source": [
    "# Fourth Question\n",
    "chat_with_pdf(\"What Taxes does the document address?\")"
   ]
  }
 ],
 "metadata": {
  "kernelspec": {
   "display_name": "rag-finance-bill2025-eng-swa",
   "language": "python",
   "name": "python3"
  },
  "language_info": {
   "codemirror_mode": {
    "name": "ipython",
    "version": 3
   },
   "file_extension": ".py",
   "mimetype": "text/x-python",
   "name": "python",
   "nbconvert_exporter": "python",
   "pygments_lexer": "ipython3",
   "version": "3.13.7"
  }
 },
 "nbformat": 4,
 "nbformat_minor": 5
}
