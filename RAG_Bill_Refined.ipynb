{
 "cells": [
  {
   "cell_type": "markdown",
   "id": "cf87bfa3",
   "metadata": {},
   "source": [
    "# OLLAMA FINANCE BILL 2025 RAG MULTILINGUAL"
   ]
  },
  {
   "cell_type": "markdown",
   "id": "acbd9751",
   "metadata": {},
   "source": [
    "## Import Libraries"
   ]
  },
  {
   "cell_type": "code",
   "execution_count": 1,
   "id": "1c49a299",
   "metadata": {},
   "outputs": [],
   "source": [
    "import pandas as pd\n",
    "import numpy as np\n",
    "from langchain_community.document_loaders import PyPDFLoader\n",
    "from langchain_ollama import OllamaEmbeddings\n",
    "from langchain_text_splitters import RecursiveCharacterTextSplitter\n",
    "from langchain_community.vectorstores import Chroma\n",
    "from langchain.prompts import ChatPromptTemplate, PromptTemplate\n",
    "from langchain_core.output_parsers import StrOutputParser\n",
    "from langchain_ollama.chat_models import ChatOllama\n",
    "from langchain_core.runnables import RunnablePassthrough\n",
    "from langchain.retrievers.multi_query import MultiQueryRetriever\n",
    "\n",
    "\n",
    "# Jupyter imports\n",
    "from IPython.display import display, Markdown # Neat Version Output"
   ]
  },
  {
   "cell_type": "code",
   "execution_count": 2,
   "id": "e146b7d7",
   "metadata": {},
   "outputs": [],
   "source": [
    "import warnings\n",
    "warnings.filterwarnings('ignore')\n",
    "# If needed"
   ]
  },
  {
   "cell_type": "markdown",
   "id": "23bd29b7",
   "metadata": {},
   "source": [
    "## Load PDF"
   ]
  },
  {
   "cell_type": "code",
   "execution_count": 3,
   "id": "fa55bc7a",
   "metadata": {},
   "outputs": [
    {
     "name": "stdout",
     "output_type": "stream",
     "text": [
      "PDF WAS SUCCESSFULLY LOADED: The Finance Bill 2025 (1).pdf\n"
     ]
    }
   ],
   "source": [
    "local_path = \"The Finance Bill 2025 (1).pdf\"\n",
    "if local_path:\n",
    "    loader = PyPDFLoader(local_path)\n",
    "    data = loader.load()\n",
    "    print(f\"PDF WAS SUCCESSFULLY LOADED: {local_path}\")\n",
    "else:\n",
    "    print(\"Upload a PDF File!\")"
   ]
  },
  {
   "cell_type": "code",
   "execution_count": 4,
   "id": "7a266090",
   "metadata": {},
   "outputs": [
    {
     "data": {
      "text/plain": [
       "\"SPECIAL ISSUE \\nNATION I. '01.INCI I.FOR \\nk P OR TI NC \\nLIPRAPY  \\n \\n   \\nKenya Gazette Supplement No. 63 (National Assembly Bills No. 19) \\nREPUBLIC OF KENYA \\nKENYA GAZETTE SUPPLEMENT \\nNATIONAL ASSEMBLY BILLS, 2025 \\nNAIROBI, 6th May, 2025 \\nCONTENT \\nBill for Introduction into the National Assembly— \\nPAGE \\nThe Finance Bill, 2025  \\t 335 \\nNATIONAL COUNCIL FOR \\nLAW REPORTING \\n0 9 MAY 2025 \\nLIBRARY ARCHIVE \\nPRINTED AND PUBLISHED BY THE GOVERNMENT PRINTER, NAIROBI\""
      ]
     },
     "execution_count": 4,
     "metadata": {},
     "output_type": "execute_result"
    }
   ],
   "source": [
    "# Preview The First Page\n",
    "data[0].page_content"
   ]
  },
  {
   "cell_type": "markdown",
   "id": "bb5bff32",
   "metadata": {},
   "source": [
    "## SPLIT TEXT INTO CHUNKS"
   ]
  },
  {
   "cell_type": "code",
   "execution_count": 5,
   "id": "7bc378a2",
   "metadata": {},
   "outputs": [],
   "source": [
    "text_splitter = RecursiveCharacterTextSplitter(chunk_size=1500, chunk_overlap=200)\n",
    "chunks = text_splitter.split_documents(data)"
   ]
  },
  {
   "cell_type": "code",
   "execution_count": 6,
   "id": "b38b7332",
   "metadata": {},
   "outputs": [
    {
     "name": "stdout",
     "output_type": "stream",
     "text": [
      "257\n",
      "The text was split into 257 chunks\n"
     ]
    }
   ],
   "source": [
    "\n",
    "# Print the number of chunks\n",
    "print(len(chunks))\n",
    "print(f\"The text was split into {len (chunks)} chunks\")"
   ]
  },
  {
   "cell_type": "markdown",
   "id": "614cef27",
   "metadata": {},
   "source": [
    "## Add to a vector database"
   ]
  },
  {
   "cell_type": "code",
   "execution_count": 7,
   "id": "f8f74a53",
   "metadata": {},
   "outputs": [
    {
     "name": "stdout",
     "output_type": "stream",
     "text": [
      "The Vector Database Was Created Succcessfully!\n"
     ]
    }
   ],
   "source": [
    "vector_db = Chroma.from_documents(\n",
    "    documents=chunks,\n",
    "    embedding=OllamaEmbeddings(model=\"nomic-embed-text\"),\n",
    "    collection_name=\"local-rag\"\n",
    ")\n",
    "print(\"The Vector Database Was Created Succcessfully!\")"
   ]
  },
  {
   "cell_type": "markdown",
   "id": "cd2e16fd",
   "metadata": {},
   "source": [
    "## SETUP LLM AND RETRIEVAL"
   ]
  },
  {
   "cell_type": "code",
   "execution_count": 8,
   "id": "f5e14b34",
   "metadata": {},
   "outputs": [],
   "source": [
    "local_model = \"llama3.1\"\n",
    "llm = ChatOllama(model=local_model)"
   ]
  },
  {
   "cell_type": "code",
   "execution_count": 9,
   "id": "080969eb",
   "metadata": {},
   "outputs": [],
   "source": [
    "# Query Prmpt Template\n",
    "QUERY_PROMPT = PromptTemplate(\n",
    "    input_variables=[\"question\"],\n",
    "    template=\"\"\"You are an AI assistant. Your task is to take the user’s question\n",
    "    and, if needed, rephrase it slightly so that it retrieves the most relevant \n",
    "    and precise context from a vector database built on the provided Finance Bill document.\n",
    "\n",
    "    The goal is to maximize the chance of finding exact or very close answers \n",
    "    within the document.\n",
    "\n",
    "    User question: {question}\"\"\"\n",
    ")\n",
    "\n",
    "# Answer Prompt\n",
    "ANSWER_PROMPT = PromptTemplate(\n",
    "    input_variables=[\"context\", \"question\"],\n",
    "    template=\"\"\"You are an AI assistant for question-answering tasks.\n",
    "Use only the following context extracted from the Finance Bill PDF:\n",
    "\n",
    "{context}\n",
    "\n",
    "Question: {question}\n",
    "\n",
    "Instructions:\n",
    "- If the answer is in the context, provide a clear and concise response.\n",
    "- If the information is NOT in the context, say:\n",
    "  \"The provided Finance Bill document does not contain information to answer that question.\"\n",
    "\n",
    "Answer:\"\"\"\n",
    ")"
   ]
  },
  {
   "cell_type": "code",
   "execution_count": 10,
   "id": "6838c0f7",
   "metadata": {},
   "outputs": [],
   "source": [
    "# Setup Retriever\n",
    "retriever = MultiQueryRetriever.from_llm(\n",
    "    vector_db.as_retriever(),\n",
    "    llm,\n",
    "    prompt=QUERY_PROMPT\n",
    ")\n",
    "# CREATE A CHAIN\n",
    "# RAG prompt Template\n",
    "template = \"\"\"Answer the question based ONLY on the following context:\n",
    "{context}\n",
    "\n",
    "Question: {question}\n",
    "\n",
    "Your response must be in the same language as the question. If the question is in Swahili, respond in Swahili. If it is in English, respond in English.\n",
    "\"\"\"\n",
    "prompt = ChatPromptTemplate.from_template(template)"
   ]
  },
  {
   "cell_type": "markdown",
   "id": "4ccffec7",
   "metadata": {},
   "source": [
    "## # Create Chain"
   ]
  },
  {
   "cell_type": "code",
   "execution_count": 11,
   "id": "df642b38",
   "metadata": {},
   "outputs": [],
   "source": [
    "chain = (\n",
    "    {\"context\": retriever, \"question\": RunnablePassthrough()}\n",
    "    | prompt\n",
    "    | llm\n",
    "    | StrOutputParser()\n",
    ")"
   ]
  },
  {
   "cell_type": "markdown",
   "id": "448da1ec",
   "metadata": {},
   "source": [
    "## Chat With The PDF"
   ]
  },
  {
   "cell_type": "code",
   "execution_count": 12,
   "id": "53e6ddf5",
   "metadata": {},
   "outputs": [],
   "source": [
    "def chat_with_pdf(question):\n",
    "    \"\"\"\n",
    "    Chat with the PDF using RAG chain.\n",
    "    \"\"\"\n",
    "    return display(Markdown(chain.invoke(question)))"
   ]
  },
  {
   "cell_type": "code",
   "execution_count": 13,
   "id": "78be070f",
   "metadata": {},
   "outputs": [
    {
     "data": {
      "text/markdown": [
       "The main idea of this document appears to be a compilation of proposed amendments and changes to various tax laws and regulations in Kenya, specifically the Income Tax Act and the Excise Duty Act. The document outlines several sections that are being amended or added, including provisions related to income tax exemptions, interest income, and excise duty on digital services.\n",
       "\n",
       "Some specific topics covered include:\n",
       "\n",
       "* Exemptions from income tax for certain individuals and activities\n",
       "* Changes to the calculation of interest income and allowable deductions\n",
       "* Amendments to the Excise Duty Act related to digital services and online transactions\n",
       "* Provisions for compensating tax for companies undertaking human vaccine manufacturing\n",
       "\n",
       "Overall, the document appears to be a legislative draft or proposal that outlines changes to Kenya's tax laws and regulations."
      ],
      "text/plain": [
       "<IPython.core.display.Markdown object>"
      ]
     },
     "metadata": {},
     "output_type": "display_data"
    }
   ],
   "source": [
    "# First Question\n",
    "chat_with_pdf(\"What is the main idea of this document?\")"
   ]
  },
  {
   "cell_type": "code",
   "execution_count": 14,
   "id": "73f3fa2a",
   "metadata": {},
   "outputs": [
    {
     "data": {
      "text/markdown": [
       "Mswada wa fedha wa 2025 unaangazia mabadiliko mbalimbali katika sera za kifedha za nchi, ikiwa ni pamoja na malipo ya riba, malipo ya ajira, na uwekezaji. Pia inasema kuwa mashirika yasiyotokana na Kenya yanayokuwa na maeneo ya kitaifa ndani ya nchi hii yakibaki kutolipia fedha kama hizo.\n",
       "\n",
       "Mswada huo pia unaongeza malipo ya shuleni, ambayo itakuwa 8% juu ya thamani ya kuuza wa nyumba. Pia inaangazia kuongezeka kwa malipo ya maji na umeme, na kuongeza uwekezaji katika sekta ya mifumo ikolojia.\n",
       "\n",
       "Pia mwada huo unaangazia ukusanyaji wa ushuru wa fedha kutoka kwa mashirika ambayo yalipokea mapato kutokana na digital content monetization."
      ],
      "text/plain": [
       "<IPython.core.display.Markdown object>"
      ]
     },
     "metadata": {},
     "output_type": "display_data"
    }
   ],
   "source": [
    "# Second Question\n",
    "chat_with_pdf(\"Mswada wa fedha wa 2025 unahusu nini?\")"
   ]
  },
  {
   "cell_type": "code",
   "execution_count": 15,
   "id": "5b8eb8cb",
   "metadata": {},
   "outputs": [
    {
     "data": {
      "text/markdown": [
       "Vipengele vikuu kwenye hii hati ni muundo wa kisheria na maendeleo ya kifedha, hasa katika uwezo wa kupiga vibali vya mapato kutoka kwa wafanyabiashara wa nje."
      ],
      "text/plain": [
       "<IPython.core.display.Markdown object>"
      ]
     },
     "metadata": {},
     "output_type": "display_data"
    }
   ],
   "source": [
    "# Third Question\n",
    "chat_with_pdf(\"Vipengele vikuu katika hii hati ni ipi?\")"
   ]
  },
  {
   "cell_type": "code",
   "execution_count": 16,
   "id": "4f146c9d",
   "metadata": {},
   "outputs": [
    {
     "data": {
      "text/markdown": [
       "The document addresses various taxes, including:\n",
       "\n",
       "1. Income Tax\n",
       "2. Excise Duty\n",
       "3. Presumptive Income Tax\n",
       "4. Advance Tax\n",
       "\n",
       "Specifically, it outlines the rates and conditions for payment of these taxes, such as:\n",
       "\n",
       "* Income tax rates for different types of income (e.g. rent, premium or similar consideration)\n",
       "* Presumptive income tax rate for agricultural produce (2% of gross amount)\n",
       "* Advance tax rates for vehicles (e.g. vans, pick-ups, trucks) and aircraft spare parts\n",
       "* Exemptions for certain goods and services, such as:\n",
       "\t+ Goods imported by the Kenya Airports Authority or exempted under the East African Community Customs Union Protocol\n",
       "\t+ Specially designed locally assembled motor vehicles for transportation of tourists\n",
       "\t+ Goods purchased before clearance through Customs by tour operators\n",
       "\n",
       "The document also addresses electronic tax invoices, including requirements for content and records to be maintained."
      ],
      "text/plain": [
       "<IPython.core.display.Markdown object>"
      ]
     },
     "metadata": {},
     "output_type": "display_data"
    }
   ],
   "source": [
    "# Fourth Question\n",
    "chat_with_pdf(\"What Taxes does the document address?\")"
   ]
  },
  {
   "cell_type": "code",
   "execution_count": 17,
   "id": "6ced1438",
   "metadata": {},
   "outputs": [
    {
     "data": {
      "text/markdown": [
       "There is no information about World War 2 in the provided documents. The documents appear to relate to financial and tax legislation, specifically \"The Finance Bill 2025\"."
      ],
      "text/plain": [
       "<IPython.core.display.Markdown object>"
      ]
     },
     "metadata": {},
     "output_type": "display_data"
    }
   ],
   "source": [
    "# Fifth Question\n",
    "chat_with_pdf(\"What does the document say about World War 2?\")"
   ]
  }
 ],
 "metadata": {
  "kernelspec": {
   "display_name": "rag-finance-bill2025-eng-swa",
   "language": "python",
   "name": "python3"
  },
  "language_info": {
   "codemirror_mode": {
    "name": "ipython",
    "version": 3
   },
   "file_extension": ".py",
   "mimetype": "text/x-python",
   "name": "python",
   "nbconvert_exporter": "python",
   "pygments_lexer": "ipython3",
   "version": "3.13.7"
  }
 },
 "nbformat": 4,
 "nbformat_minor": 5
}
